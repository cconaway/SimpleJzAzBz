{
 "cells": [
  {
   "cell_type": "code",
   "execution_count": 3,
   "id": "e11f0c43-7315-4718-9fb3-8b6e4a4d846e",
   "metadata": {},
   "outputs": [],
   "source": [
    "\"\"\"\n",
    "Rewriting the methods given for the conversion to JzAzBz Space. A direct translation of the code given by \n",
    "https://figshare.com/articles/software/JzAzBz_m/5016299\n",
    "\n",
    "Later notebooks use the SimpleJzAzBz Class to conduct analysis\n",
    "\"\"\"\n",
    "\n",
    "import numpy as np\n",
    "import math"
   ]
  },
  {
   "cell_type": "code",
   "execution_count": 4,
   "id": "d8f9f0af-0e2c-4012-9e10-619e29e6325e",
   "metadata": {},
   "outputs": [],
   "source": [
    "#Array for XYZ to LMS conversion\n",
    "M1 = np.array([[0.41478972, 0.579999, 0.014648],\n",
    "                  [-0.20151, 1.120649, 0.0531008],\n",
    "                  [-0.0166008, 0.2648, 0.6684799]])\n",
    "\n",
    "#Array for L'M'S' to IzAzBz \n",
    "M2 = np.array([[0.5, 0.5, 0],\n",
    "                [3.524000,  -4.066708, 0.542708],\n",
    "                [0.199076, 1.096799,  -1.295875]])\n",
    "\n",
    "#Constants\n",
    "b=1.15\n",
    "g=0.66\n",
    "d = -0.56\n",
    "n = 2610 / (2**14)\n",
    "p = (1.7) * 2523/ (2**5) \n",
    "c1 = 3424/ (2**12)\n",
    "c2 = 2413/ (2**7) \n",
    "c3 = 2392/ (2**7)\n",
    "\n",
    "#Perceptual Quantizer -> curve which is a dynamic transform of cone responses.\n",
    "def PQ(X, lum=10000):\n",
    "    \n",
    "    #Note: I am pretty sure that the 10000 value comes from the luminance value of 10000 cd/m2, candelas per square metre.\n",
    "    # It is possible that this value can be adjusted for varying luminances. As such I've made it a parameter that can\n",
    "    # be changed if one desires.\n",
    "    xn = np.sign(X / lum) * (np.abs(X / lum) ** n) #(x./10000).^n\n",
    "    a = c1 + (c2 * xn)\n",
    "    b = 1 + (c3 * xn)\n",
    "    \n",
    "    LMS_prime = np.sign(a/b) * (np.abs(a/b) ** p)\n",
    "    return LMS_prime\n",
    "\n",
    "#Conversion from XYZ to IzAzBz\n",
    "def xyz_2_izazbz(XYZ_D65):\n",
    "    #XYZ_D65 is an n by 3 matrix\n",
    "    XYZ_D65[:,1] = g * XYZ_D65[:,1] - np.multiply((g-1),XYZ_D65[:,0])\n",
    "    XYZ_D65[:,0] = b * XYZ_D65[:,0] - np.multiply((b-1),XYZ_D65[:,2])\n",
    "\n",
    "    LMS_prime = PQ(XYZ_D65 @ M1.T)\n",
    "    IzAzBz = LMS_prime @ M2.T \n",
    "\n",
    "    return IzAzBz\n",
    "\n",
    "#Conversion of Iz to Jz\n",
    "def iz_2_jz(IzAzBz):\n",
    "    Iz = IzAzBz[:,0]\n",
    "    Jz = ((1+d) * Iz) / (1+d*Iz)-1.6295499532821566e-11\n",
    "    JzAzBz =  np.array([Jz, IzAzBz[:,1], IzAzBz[:,2]]).T \n",
    "    \n",
    "    return JzAzBz\n",
    "\n",
    "#Putting it all together in xyz -> jzazbz\n",
    "def xyz_2_jzazbz(XYZ_D65):\n",
    "    #convinient function\n",
    "\n",
    "    XYZ_D65[:,1] = g * XYZ_D65[:,1] - np.multiply((g-1),XYZ_D65[:,0])\n",
    "    XYZ_D65[:,0] = b * XYZ_D65[:,0] - np.multiply((b-1),XYZ_D65[:,2])\n",
    "\n",
    "    LMS_prime = PQ(XYZ_D65 @ M1.T)\n",
    "    IzAzBz = LMS_prime @ M2.T  \n",
    "    \n",
    "    Iz = IzAzBz[:,0]\n",
    "    Jz = ((1+d) * Iz) / (1+d*Iz)-1.6295499532821566e-11\n",
    "    JzAzBz =  np.array([Jz, IzAzBz[:,1], IzAzBz[:,2]]).T \n",
    "    \n",
    "    return JzAzBz\n"
   ]
  },
  {
   "cell_type": "code",
   "execution_count": 5,
   "id": "4c8d9055-119f-406a-8c10-c6fd6c725a61",
   "metadata": {},
   "outputs": [
    {
     "name": "stdout",
     "output_type": "stream",
     "text": [
      "Izazbz out: [[0.01207793 0.00924302 0.00526007]]\n",
      "Izazbz test:[ 0.0120779...,  0.0092430...,  0.0052600...] \n",
      "\n",
      "Jzazbz out: [[0.00535048 0.00924302 0.00526007]]\n",
      "JzAzBz test: [ 0.0053504...,  0.0092430...,  0.0052600...]\n",
      "\n",
      "Jzazbz out: [[0.00535048 0.00924302 0.00526007]]\n",
      "JzAzBz test: [ 0.0053504...,  0.0092430...,  0.0052600...]\n"
     ]
    }
   ],
   "source": [
    "# Test array with expected output values below, for XYZ to JzAzBz\n",
    "\n",
    "test = np.array([[0.20654008, 0.12197225, 0.05136952]]) #xyz\n",
    "izazbz = xyz_2_izazbz(test)\n",
    "print('Izazbz out:', izazbz)\n",
    "print('Izazbz test:''[ 0.0120779...,  0.0092430...,  0.0052600...]','\\n')\n",
    "\n",
    "jzazbz = iz_2_jz(izazbz)\n",
    "print('Jzazbz out:', jzazbz)\n",
    "print('JzAzBz test:', '[ 0.0053504...,  0.0092430...,  0.0052600...]\\n')\n",
    "\n",
    "test = np.array([[0.20654008, 0.12197225, 0.05136952]]) #xyz\n",
    "jzazbz2 = xyz_2_jzazbz(test)\n",
    "print('Jzazbz out:', jzazbz2)\n",
    "print('JzAzBz test:', '[ 0.0053504...,  0.0092430...,  0.0052600...]')"
   ]
  },
  {
   "cell_type": "code",
   "execution_count": 6,
   "id": "59ddc63f-51b0-4e4d-b0f5-7bbd3fafbdc3",
   "metadata": {},
   "outputs": [],
   "source": [
    "#An inverse construction of the function for JzAzBz -> XYZ\n",
    "def invPQ(X):\n",
    "    #Converts L'M'S' into LMS\n",
    "    xn = np.sign(X) * (np.abs(X)**(1/p)) #x.^(1/p)\n",
    "    a = c1-xn\n",
    "    b = c3*xn-c2\n",
    "    \n",
    "    LMS = 10000 * ( np.sign(a/b) * (np.abs(a/b)**(1/n)))\n",
    "    \n",
    "    return LMS\n",
    "    \n",
    "    \n",
    "def jzazbz_2_xyz(JzAzBz):\n",
    "    #Takes an nx3 array as input.\n",
    "    \n",
    "    JzAzBz[:,0] = JzAzBz[:,0]+1.6295499532821566e-11\n",
    "    Iz = JzAzBz[:,0] / (1 + d - (d*JzAzBz[:,0]))\n",
    "    \n",
    "    IzAzBz = np.array([Iz, JzAzBz[:,1], JzAzBz[:,2]]).T\n",
    "\n",
    "    XYZ_D65 = invPQ(IzAzBz @ np.linalg.inv(M2).T) @ np.linalg.inv(M1).T\n",
    "    \n",
    "    XYZ_D65[:,0] = (XYZ_D65[:,0] + np.multiply((b-1),XYZ_D65[:,2])) / b \n",
    "    XYZ_D65[:,1] = (XYZ_D65[:,1] + np.multiply((g-1),XYZ_D65[:,0])) / g\n",
    "\n",
    "    return XYZ_D65"
   ]
  },
  {
   "cell_type": "code",
   "execution_count": 7,
   "id": "aa0f55cb-d218-4911-b804-b02c91eaf545",
   "metadata": {},
   "outputs": [
    {
     "name": "stdout",
     "output_type": "stream",
     "text": [
      "xyz out: [[0.20654008 0.12197225 0.05136952]]\n",
      "original xyz: [[0.20654008, 0.12197225, 0.05136952]]\n"
     ]
    }
   ],
   "source": [
    "#Testing JzAzBz to XYZ\n",
    "\n",
    "out = jzazbz_2_xyz(jzazbz)\n",
    "print('xyz out:', out)\n",
    "print('original xyz:', '[[0.20654008, 0.12197225, 0.05136952]]')"
   ]
  },
  {
   "cell_type": "code",
   "execution_count": 8,
   "id": "01e0ac60-7fd7-4fdb-a570-1f76526cf9c2",
   "metadata": {},
   "outputs": [],
   "source": [
    "#Formulas for converting JzAzBz to JzCzHz and deltaE\n",
    "\n",
    "def jzazbz_2_jzczhz(JzAzBz):\n",
    "    #input is an nx3 array\n",
    "    #cz = sqrt(az^2 + bz^2)\n",
    "    Cz = np.array([math.sqrt( (JzAzBz[:,1]**2) + (JzAzBz[:,2]**2) )])\n",
    "    \n",
    "    #hz = arctan2(bz/az)\n",
    "    Hz = np.arctan2(JzAzBz[:,2], JzAzBz[:,1])\n",
    "    \n",
    "    return np.array([JzAzBz[:,0], Cz, Hz]).T\n",
    "\n",
    "\n",
    "def calculate_deltaE(JzAzBz1, JzAzBz2):\n",
    "    #Delta E = sqrt(deltaj^2 + deltac^2 + deltah^2)\n",
    "    #delta h = 2 * sqrt(c2*c1) * sin(deltah/2)\n",
    "    \n",
    "    JzCzHz1 = jzazbz_2_jzczhz(JzAzBz1)\n",
    "    JzCzHz2 = jzazbz_2_jzczhz(JzAzBz2)\n",
    "    \n",
    "    d_j = JzCzHz2[:,0] - JzCzHz1[:,0]\n",
    "    d_c = JzCzHz2[:,1] - JzCzHz1[:,1]\n",
    "    \n",
    "    d_h = 2 * math.sqrt(JzCzHz2[:,1] * JzCzHz1[:,1]) * np.sin( (JzCzHz2[:,2] - JzCzHz1[:,2]) / 2 ) \n",
    "    \n",
    "    return np.sqrt( (d_j**2) + (d_c**2) + (d_h**2))\n"
   ]
  },
  {
   "cell_type": "code",
   "execution_count": 9,
   "id": "8e8f9917-a232-4454-9689-1649cf0b7b1c",
   "metadata": {},
   "outputs": [
    {
     "name": "stdout",
     "output_type": "stream",
     "text": [
      "DeltaE [0.05] expected 0.05\n"
     ]
    }
   ],
   "source": [
    "#Testing DeltaE with expected values\n",
    "\n",
    "#345 triangle, expected out is 0.05\n",
    "c1 = np.array([[0.1, 0.03, 0.04]]) #jzazbz\n",
    "c2 = np.array([[0.1, 0.0, 0.0]])\n",
    "\n",
    "de = calculate_deltaE(c1, c2)\n",
    "print('DeltaE', de, 'expected', '0.05')"
   ]
  },
  {
   "cell_type": "code",
   "execution_count": 57,
   "id": "0fa724c6-8cbb-406f-a0ac-3a6809839b29",
   "metadata": {},
   "outputs": [],
   "source": [
    "#Function for transforming XYZ to sRGB\n",
    "\n",
    "#conversion array given here: http://www.brucelindbloom.com\n",
    "#conversion from XYZ65 to RGB\n",
    "M3 = np.array([[3.2404542, -1.5371385, -0.4985314],\n",
    "                [-0.9692660,  1.8760108,  0.0415560],\n",
    "                [0.0556434, -0.2040259,  1.0572252]])\n",
    "\n",
    "#Conversion from sRGB to XYZ65\n",
    "M4 = np.array([[0.4124564, 0.3575761, 0.1804375],\n",
    "                 [0.2126729, 0.7151522, 0.0721750],\n",
    "                 [0.0193339, 0.1191920, 0.9503041]])\n",
    "\n",
    "def xyz65_2_srgb(XYZ_D65):\n",
    "    rgb = XYZ_D65 @ M3.T\n",
    "    \n",
    "    rgb[:,0] = _nonlinear_xyz_rgb(rgb[:,0])\n",
    "    rgb[:,1] = _nonlinear_xyz_rgb(rgb[:,1])\n",
    "    rgb[:,2] = _nonlinear_xyz_rgb(rgb[:,2])\n",
    "    \n",
    "    return rgb * 255\n",
    "\n",
    "def srgb_2_xyz65(sRGB):\n",
    "    sRGB = sRGB / 255\n",
    "    \n",
    "    sRGB[:,0] = _nonlinear_rgb_xyz(sRGB[:,0])\n",
    "    sRGB[:,1] = _nonlinear_rgb_xyz(sRGB[:,1])\n",
    "    sRGB[:,2] = _nonlinear_rgb_xyz(sRGB[:,2])\n",
    "    \n",
    "    xyz65 = (M4 @ sRGB.T).T\n",
    "    return xyz65\n",
    "\n",
    "def _nonlinear_xyz_rgb(x):\n",
    "    if x <= 0.0031308:\n",
    "        return x * 12.92\n",
    "    else:\n",
    "        return 1.055 * (x ** (1/2.4)) - 0.055\n",
    "    \n",
    "def _nonlinear_rgb_xyz(x):\n",
    "    if x <= 0.04045:\n",
    "        return x / 12.92\n",
    "    else:\n",
    "        return (np.sign((x+0.055)/1.055) * np.power(np.abs(x+0.055)/1.055, 2.4))"
   ]
  },
  {
   "cell_type": "code",
   "execution_count": 58,
   "id": "5f7813cf-6751-4207-bb2f-7018f744b71c",
   "metadata": {},
   "outputs": [
    {
     "name": "stdout",
     "output_type": "stream",
     "text": [
      "rgb white [[276.71504155 249.11499097 244.49626643]]\n",
      "1.085157, 0.976922, 0.958809\n",
      "[[0.95047   1.0000001 1.08883  ]]\n"
     ]
    }
   ],
   "source": [
    "#Testing XYZ white \n",
    "white_test = np.array([[1.0,1.0,1.0]]) #white in XYZ 65\n",
    "white = xyz65_2_srgb(white_test)\n",
    "\n",
    "print('rgb white', white)\n",
    "print('1.085157, 0.976922, 0.958809')\n",
    "\n",
    "test2 = np.array([[255.0,255.0,255.0]])\n",
    "out = srgb_2_xyz65(test2)\n",
    "print(out)"
   ]
  },
  {
   "cell_type": "code",
   "execution_count": 36,
   "id": "82479c1d-e9f6-4b22-8c1c-2c9aca8ab2bd",
   "metadata": {},
   "outputs": [],
   "source": [
    "\n"
   ]
  },
  {
   "cell_type": "code",
   "execution_count": null,
   "id": "02b0102b-793f-4417-bfdd-17e737c52434",
   "metadata": {},
   "outputs": [],
   "source": []
  }
 ],
 "metadata": {
  "kernelspec": {
   "display_name": "Python 3",
   "language": "python",
   "name": "python3"
  },
  "language_info": {
   "codemirror_mode": {
    "name": "ipython",
    "version": 3
   },
   "file_extension": ".py",
   "mimetype": "text/x-python",
   "name": "python",
   "nbconvert_exporter": "python",
   "pygments_lexer": "ipython3",
   "version": "3.9.12"
  },
  "vscode": {
   "interpreter": {
    "hash": "aee8b7b246df8f9039afb4144a1f6fd8d2ca17a180786b69acc140d282b71a49"
   }
  }
 },
 "nbformat": 4,
 "nbformat_minor": 5
}
